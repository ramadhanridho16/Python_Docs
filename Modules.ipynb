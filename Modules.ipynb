{
  "nbformat": 4,
  "nbformat_minor": 0,
  "metadata": {
    "colab": {
      "provenance": [],
      "toc_visible": true,
      "authorship_tag": "ABX9TyN03jCJ749PJb5vL5z6TaF6",
      "include_colab_link": true
    },
    "kernelspec": {
      "name": "python3",
      "display_name": "Python 3"
    },
    "language_info": {
      "name": "python"
    }
  },
  "cells": [
    {
      "cell_type": "markdown",
      "metadata": {
        "id": "view-in-github",
        "colab_type": "text"
      },
      "source": [
        "<a href=\"https://colab.research.google.com/github/ramadhanridho16/Python_Docs/blob/main/Modules.ipynb\" target=\"_parent\"><img src=\"https://colab.research.google.com/assets/colab-badge.svg\" alt=\"Open In Colab\"/></a>"
      ]
    },
    {
      "cell_type": "markdown",
      "source": [
        "# Python Modules\n",
        "\n",
        "![image.png](data:image/png;base64,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)"
      ],
      "metadata": {
        "id": "Fu3z92lJr4XG"
      }
    },
    {
      "cell_type": "markdown",
      "source": [
        "## Introduction\n",
        "\n",
        "![image.png](data:image/png;base64,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)"
      ],
      "metadata": {
        "id": "ogiivE8fsEuH"
      }
    },
    {
      "cell_type": "markdown",
      "source": [
        "## Writing Python modules"
      ],
      "metadata": {
        "id": "Y_Xhg6vOtBt6"
      }
    },
    {
      "cell_type": "code",
      "source": [
        "from google.colab import drive\n",
        "drive.mount('/content/drive')"
      ],
      "metadata": {
        "colab": {
          "base_uri": "https://localhost:8080/"
        },
        "id": "GiH6GUtVyISJ",
        "outputId": "98e2ad06-078c-4848-b11f-f1c042d03de4"
      },
      "execution_count": 7,
      "outputs": [
        {
          "output_type": "stream",
          "name": "stdout",
          "text": [
            "Drive already mounted at /content/drive; to attempt to forcibly remount, call drive.mount(\"/content/drive\", force_remount=True).\n"
          ]
        }
      ]
    },
    {
      "cell_type": "code",
      "execution_count": 4,
      "metadata": {
        "id": "xskUnECrr0Ht"
      },
      "outputs": [],
      "source": [
        "# I have made a module in directory 'Pydocs'\n",
        "\n",
        "import sys\n",
        "\n",
        "sys.path.insert(0,'/content/drive/MyDrive/3. Colab Notebooks/Python Documentation/Pydocs/pricing.py')"
      ]
    },
    {
      "cell_type": "code",
      "source": [
        "!ls /content/drive/MyDrive/3. Colab Notebooks/Python Documentation/Pydocs/*.py"
      ],
      "metadata": {
        "colab": {
          "base_uri": "https://localhost:8080/"
        },
        "id": "4-fXeqPpyze5",
        "outputId": "0f6e72eb-d120-47a0-af99-477bee15b032"
      },
      "execution_count": 10,
      "outputs": [
        {
          "output_type": "stream",
          "name": "stdout",
          "text": [
            "ls: cannot access '/content/drive/MyDrive/3.': No such file or directory\n",
            "ls: cannot access 'Colab': No such file or directory\n",
            "ls: cannot access 'Notebooks/Python': No such file or directory\n",
            "ls: cannot access 'Documentation/Pydocs/*.py': No such file or directory\n"
          ]
        }
      ]
    },
    {
      "cell_type": "code",
      "source": [
        "!cat '/content/drive/MyDrive/3. Colab Notebooks/Python Documentation/Pydocs/pricing.py'"
      ],
      "metadata": {
        "colab": {
          "base_uri": "https://localhost:8080/"
        },
        "id": "hTi_y04uzs18",
        "outputId": "d24c9257-8f21-4c65-a426-dbcb0faf6b28"
      },
      "execution_count": 11,
      "outputs": [
        {
          "output_type": "stream",
          "name": "stdout",
          "text": [
            "# Make functions\r\n",
            "\r\n",
            "def get_net_price(price, tax_rate, discount=0):\r\n",
            "    return price * (1 + tax_rate) * (1-discount)\r\n",
            "\r\n",
            "\r\n",
            "def get_tax(price, tax_rate=0):\r\n",
            "    return price*tax_rate\r\n"
          ]
        }
      ]
    },
    {
      "cell_type": "code",
      "source": [
        "import sys\n",
        "sys.path.append('/content/drive/MyDrive/3. Colab Notebooks/Python Documentation/Pydocs/pricing.py')"
      ],
      "metadata": {
        "id": "WNxXp_bH1vRs"
      },
      "execution_count": 13,
      "outputs": []
    },
    {
      "cell_type": "code",
      "source": [
        "import pricing\n",
        "\n",
        "net_price = pricing.get_net_price(\n",
        "    price=100,\n",
        "    tax_rate=0.01\n",
        ")\n",
        "\n",
        "print(net_price)"
      ],
      "metadata": {
        "colab": {
          "base_uri": "https://localhost:8080/",
          "height": 373
        },
        "id": "Gbp-YPYd10Is",
        "outputId": "81d75be1-b6cb-4779-bf83-d6ba756f50c6"
      },
      "execution_count": 15,
      "outputs": [
        {
          "output_type": "error",
          "ename": "ModuleNotFoundError",
          "evalue": "ignored",
          "traceback": [
            "\u001b[0;31m---------------------------------------------------------------------------\u001b[0m",
            "\u001b[0;31mModuleNotFoundError\u001b[0m                       Traceback (most recent call last)",
            "\u001b[0;32m<ipython-input-15-d0e7f029f205>\u001b[0m in \u001b[0;36m<module>\u001b[0;34m\u001b[0m\n\u001b[0;32m----> 1\u001b[0;31m \u001b[0;32mimport\u001b[0m \u001b[0mpricing\u001b[0m\u001b[0;34m\u001b[0m\u001b[0;34m\u001b[0m\u001b[0m\n\u001b[0m\u001b[1;32m      2\u001b[0m \u001b[0;34m\u001b[0m\u001b[0m\n\u001b[1;32m      3\u001b[0m net_price = pricing.get_net_price(\n\u001b[1;32m      4\u001b[0m     \u001b[0mprice\u001b[0m\u001b[0;34m=\u001b[0m\u001b[0;36m100\u001b[0m\u001b[0;34m,\u001b[0m\u001b[0;34m\u001b[0m\u001b[0;34m\u001b[0m\u001b[0m\n\u001b[1;32m      5\u001b[0m     \u001b[0mtax_rate\u001b[0m\u001b[0;34m=\u001b[0m\u001b[0;36m0.01\u001b[0m\u001b[0;34m\u001b[0m\u001b[0;34m\u001b[0m\u001b[0m\n",
            "\u001b[0;31mModuleNotFoundError\u001b[0m: No module named 'pricing'",
            "",
            "\u001b[0;31m---------------------------------------------------------------------------\u001b[0;32m\nNOTE: If your import is failing due to a missing package, you can\nmanually install dependencies using either !pip or !apt.\n\nTo view examples of installing some common dependencies, click the\n\"Open Examples\" button below.\n\u001b[0;31m---------------------------------------------------------------------------\u001b[0m\n"
          ],
          "errorDetails": {
            "actions": [
              {
                "action": "open_url",
                "actionText": "Open Examples",
                "url": "/notebooks/snippets/importing_libraries.ipynb"
              }
            ]
          }
        }
      ]
    },
    {
      "cell_type": "markdown",
      "source": [
        "## **So many error to import module in google drive, So i will get the problem soon**"
      ],
      "metadata": {
        "id": "65wHDrO82-xx"
      }
    },
    {
      "cell_type": "code",
      "source": [],
      "metadata": {
        "id": "RNJjPEgL2Jza"
      },
      "execution_count": null,
      "outputs": []
    }
  ]
}